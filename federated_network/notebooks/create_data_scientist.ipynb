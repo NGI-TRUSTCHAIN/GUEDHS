{
 "cells": [
  {
   "cell_type": "code",
   "execution_count": 5,
   "metadata": {},
   "outputs": [],
   "source": [
    "# syft absolute\n",
    "import syft as sy"
   ]
  },
  {
   "cell_type": "code",
   "execution_count": 6,
   "metadata": {},
   "outputs": [
    {
     "name": "stdout",
     "output_type": "stream",
     "text": [
      "Logged into <elastic_botvinick: High side Domain> as <info@openmined.org>\n"
     ]
    },
    {
     "data": {
      "text/html": [
       "<div class=\"alert-warning\" style=\"padding:5px;\"><strong>SyftWarning</strong>: You are using a default password. Please change the password using `[your_client].me.set_password([new_password])`.</div><br />"
      ],
      "text/plain": [
       "SyftWarning: You are using a default password. Please change the password using `[your_client].me.set_password([new_password])`."
      ]
     },
     "metadata": {},
     "output_type": "display_data"
    }
   ],
   "source": [
    "domain_client = sy.login(port=8081, email=\"info@openmined.org\", password=\"changethis\")"
   ]
  },
  {
   "cell_type": "code",
   "execution_count": 3,
   "metadata": {},
   "outputs": [
    {
     "data": {
      "text/html": [
       "<div class=\"alert-warning\" style=\"padding:5px;\"><strong>SyftWarning</strong>: You're registering a user to a high side domain, which could host datasets with private information.</div><br />"
      ],
      "text/plain": [
       "SyftWarning: You're registering a user to a high side domain, which could host datasets with private information."
      ]
     },
     "metadata": {},
     "output_type": "display_data"
    },
    {
     "data": {
      "text/html": [
       "<div class=\"alert-success\" style=\"padding:5px;\"><strong>SyftSuccess</strong>: User 'Sheldon Cooper' successfully registered! To see users, run `[your_client].users`</div><br />"
      ],
      "text/plain": [
       "SyftSuccess: User 'Sheldon Cooper' successfully registered! To see users, run `[your_client].users`"
      ]
     },
     "execution_count": 3,
     "metadata": {},
     "output_type": "execute_result"
    }
   ],
   "source": [
    "domain_client.register(\n",
    "    name=\"Sheldon Cooper\",\n",
    "    email=\"sheldon@caltech.edu\",\n",
    "    password=\"abc123\",\n",
    "    password_verify=\"abc123\",\n",
    "    institution=\"Caltech\",\n",
    "    website=\"https://www.caltech.edu/\",\n",
    ")"
   ]
  },
  {
   "cell_type": "code",
   "execution_count": 12,
   "metadata": {},
   "outputs": [
    {
     "data": {
      "text/markdown": [
       "```python\n",
       "class UserView:\n",
       "  id: str = ce887eb3a2ee46ffaaf4ef9bdc1b59b8\n",
       "  name: str = \"Sheldon Cooper\"\n",
       "  email: str = \"sheldon@caltech.edu\"\n",
       "  institution: str = \"Caltech\"\n",
       "  website: str = \"https://www.caltech.edu/\"\n",
       "  role: str = ServiceRole.DATA_SCIENTIST\n",
       "  notifications_enabled: str = {<NOTIFIERS.EMAIL: 1>: True, <NOTIFIERS.SMS: 2>: False, <NOTIFIERS.SLACK: 3>: False, <NOTIFIERS.APP: 4>: False}\n",
       "\n",
       "```"
      ],
      "text/plain": [
       "syft.service.user.user.UserView"
      ]
     },
     "execution_count": 12,
     "metadata": {},
     "output_type": "execute_result"
    }
   ],
   "source": [
    "domain_client.users[1]"
   ]
  },
  {
   "cell_type": "code",
   "execution_count": null,
   "metadata": {},
   "outputs": [],
   "source": []
  }
 ],
 "metadata": {
  "kernelspec": {
   "display_name": "pysyft",
   "language": "python",
   "name": "python3"
  },
  "language_info": {
   "codemirror_mode": {
    "name": "ipython",
    "version": 3
   },
   "file_extension": ".py",
   "mimetype": "text/x-python",
   "name": "python",
   "nbconvert_exporter": "python",
   "pygments_lexer": "ipython3",
   "version": "3.11.9"
  }
 },
 "nbformat": 4,
 "nbformat_minor": 2
}
