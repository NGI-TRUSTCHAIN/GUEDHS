{
 "cells": [
  {
   "cell_type": "code",
   "execution_count": 32,
   "metadata": {},
   "outputs": [],
   "source": [
    "import pandas as pd"
   ]
  },
  {
   "cell_type": "code",
   "execution_count": 33,
   "metadata": {},
   "outputs": [],
   "source": [
    "df = pd.read_csv(\"data.csv\")\n",
    "df = df.rename(\n",
    "    columns={\n",
    "        \"Diagnostic Test Type\": \"test_type\",\n",
    "        \"Surveillance Year\": \"year\",\n",
    "        \"Week ending Code\": \"week_code\",\n",
    "        \"Week ending Date\": \"week_date\",\n",
    "        \"HHS region\": \"region\",\n",
    "        \"RSV Detections\": \"detections\",\n",
    "        \"RSV Tests\": \"tests\",\n",
    "        \"Outlier\": \"outlier\",\n",
    "    }\n",
    ")\n",
    "df[\"week_date\"] = df[\"week_date\"].astype(\"datetime64[ns]\")\n",
    "df[\"region\"] = df[\"region\"] % 2"
   ]
  },
  {
   "cell_type": "code",
   "execution_count": 34,
   "metadata": {},
   "outputs": [],
   "source": [
    "chuc = df[df[\"region\"] == 0]\n",
    "chudsa = df[df[\"region\"] == 1]"
   ]
  },
  {
   "cell_type": "code",
   "execution_count": 35,
   "metadata": {},
   "outputs": [],
   "source": [
    "chuc.to_csv(\"chuc.csv\", index=False)\n",
    "chudsa.to_csv(\"chudsa.csv\", index=False)"
   ]
  }
 ],
 "metadata": {
  "kernelspec": {
   "display_name": ".venv",
   "language": "python",
   "name": "python3"
  },
  "language_info": {
   "codemirror_mode": {
    "name": "ipython",
    "version": 3
   },
   "file_extension": ".py",
   "mimetype": "text/x-python",
   "name": "python",
   "nbconvert_exporter": "python",
   "pygments_lexer": "ipython3",
   "version": "3.11.8"
  }
 },
 "nbformat": 4,
 "nbformat_minor": 2
}
