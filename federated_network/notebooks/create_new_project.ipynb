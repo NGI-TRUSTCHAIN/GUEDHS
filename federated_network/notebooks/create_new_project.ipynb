{
 "cells": [
  {
   "cell_type": "code",
   "execution_count": null,
   "metadata": {},
   "outputs": [],
   "source": [
    "# syft absolute\n",
    "import syft as sy"
   ]
  },
  {
   "cell_type": "code",
   "execution_count": null,
   "metadata": {},
   "outputs": [],
   "source": [
    "data_scientist_client = sy.login(port=8081, email=\"sheldon@caltech.edu\", password=\"abc123\")\n",
    "data_scientist_client"
   ]
  },
  {
   "cell_type": "code",
   "execution_count": null,
   "metadata": {},
   "outputs": [],
   "source": [
    "datasets = data_scientist_client.datasets.get_all()\n",
    "datasets"
   ]
  },
  {
   "cell_type": "code",
   "execution_count": null,
   "metadata": {},
   "outputs": [],
   "source": [
    "dataset1 = datasets[0]\n",
    "asset1 = dataset1.assets[0]"
   ]
  },
  {
   "cell_type": "code",
   "execution_count": null,
   "metadata": {},
   "outputs": [],
   "source": [
    "dataset2 = datasets[1]\n",
    "asset2 = dataset2.assets[0]"
   ]
  },
  {
   "cell_type": "code",
   "execution_count": null,
   "metadata": {},
   "outputs": [],
   "source": [
    "mock1 = asset1.mock\n",
    "mock1"
   ]
  },
  {
   "cell_type": "code",
   "execution_count": null,
   "metadata": {},
   "outputs": [],
   "source": [
    "mock2 = asset2.mock\n",
    "mock2"
   ]
  },
  {
   "cell_type": "markdown",
   "metadata": {},
   "source": [
    "Create a Syft Function"
   ]
  },
  {
   "cell_type": "code",
   "execution_count": null,
   "metadata": {},
   "outputs": [],
   "source": [
    "@sy.syft_function_single_use(data1=asset1, data2=asset2)\n",
    "def percentage_comparison_function(data1, data2):\n",
    "    total_tests_data1 = sum(data1[\"tests\"])\n",
    "    total_tests_data2 = sum(data2[\"RSV Tests\"])\n",
    "\n",
    "    total_detections_data1 = sum(data1[\"detections\"])\n",
    "    total_detections_data2 = sum(data2[\"RSV Detections\"])\n",
    "\n",
    "    percentage_data1 = total_detections_data1 / total_tests_data1\n",
    "    percentage_data2 = total_detections_data2 / total_tests_data2\n",
    "\n",
    "    if percentage_data1 > percentage_data2:\n",
    "        return \"Data1 has a higher percentage of detections with \" + str(percentage_data1) + \" compared to \" + str(percentage_data2)\n",
    "    else:\n",
    "        return \"Data2 has a higher percentage of detections with \" + str(percentage_data2) + \" compared to \" + str(percentage_data1)"
   ]
  },
  {
   "cell_type": "code",
   "execution_count": null,
   "metadata": {},
   "outputs": [],
   "source": [
    "pointer = percentage_comparison_function(data1=asset1, data2=asset2)\n",
    "result = pointer.get()"
   ]
  },
  {
   "cell_type": "markdown",
   "metadata": {},
   "source": [
    "Submit function to the Domain Server"
   ]
  },
  {
   "cell_type": "code",
   "execution_count": null,
   "metadata": {},
   "outputs": [],
   "source": [
    "new_project = sy.Project(\n",
    "    name=\"Comparison Project\",\n",
    "    description=\"Project to compare two datasets and determine which has a higher percentage of detections\",\n",
    "    members=[data_scientist_client],\n",
    ")\n",
    "new_project"
   ]
  },
  {
   "cell_type": "code",
   "execution_count": null,
   "metadata": {},
   "outputs": [],
   "source": [
    "result = new_project.create_code_request(percentage_comparison_function, data_scientist_client)\n",
    "result"
   ]
  },
  {
   "cell_type": "code",
   "execution_count": null,
   "metadata": {},
   "outputs": [],
   "source": [
    "data_scientist_client.code"
   ]
  },
  {
   "cell_type": "code",
   "execution_count": null,
   "metadata": {},
   "outputs": [],
   "source": [
    "project = new_project.start()\n",
    "project"
   ]
  },
  {
   "cell_type": "code",
   "execution_count": null,
   "metadata": {},
   "outputs": [],
   "source": [
    "func_result = data_scientist_client.code.percentage_comparison_function()\n",
    "func_result"
   ]
  },
  {
   "cell_type": "code",
   "execution_count": null,
   "metadata": {},
   "outputs": [],
   "source": []
  }
 ],
 "metadata": {
  "kernelspec": {
   "display_name": "pysyft",
   "language": "python",
   "name": "python3"
  },
  "language_info": {
   "codemirror_mode": {
    "name": "ipython",
    "version": 3
   },
   "file_extension": ".py",
   "mimetype": "text/x-python",
   "name": "python",
   "nbconvert_exporter": "python",
   "pygments_lexer": "ipython3",
   "version": "3.11.9"
  }
 },
 "nbformat": 4,
 "nbformat_minor": 2
}
