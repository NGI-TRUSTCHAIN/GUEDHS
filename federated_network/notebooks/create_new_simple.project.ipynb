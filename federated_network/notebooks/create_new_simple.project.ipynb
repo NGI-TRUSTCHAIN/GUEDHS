{
 "cells": [
  {
   "cell_type": "code",
   "execution_count": 1,
   "metadata": {},
   "outputs": [],
   "source": [
    "import syft as sy"
   ]
  },
  {
   "cell_type": "markdown",
   "metadata": {},
   "source": [
    "Login to the network with Data Scientist credentials\n",
    "\n",
    "Note: Make sure to create the user first through the GUEHDS portal"
   ]
  },
  {
   "cell_type": "code",
   "execution_count": null,
   "metadata": {},
   "outputs": [],
   "source": [
    "data_scientist_client = sy.login(port=8081, email=\"email\", password=\"pass\")\n",
    "data_scientist_client"
   ]
  },
  {
   "cell_type": "markdown",
   "metadata": {},
   "source": [
    "Explore the available datasets on the network"
   ]
  },
  {
   "cell_type": "code",
   "execution_count": null,
   "metadata": {},
   "outputs": [],
   "source": [
    "datasets = data_scientist_client.datasets.get_all()\n",
    "datasets"
   ]
  },
  {
   "cell_type": "markdown",
   "metadata": {},
   "source": [
    "Select a dataset and the respective mock"
   ]
  },
  {
   "cell_type": "code",
   "execution_count": 20,
   "metadata": {},
   "outputs": [],
   "source": [
    "dataset = datasets[0]\n",
    "asset = dataset.assets[0]"
   ]
  },
  {
   "cell_type": "code",
   "execution_count": null,
   "metadata": {},
   "outputs": [],
   "source": [
    "mock = asset.mock\n",
    "mock"
   ]
  },
  {
   "cell_type": "markdown",
   "metadata": {},
   "source": [
    "Create a function to analyze the dataset"
   ]
  },
  {
   "cell_type": "code",
   "execution_count": null,
   "metadata": {},
   "outputs": [],
   "source": [
    "@sy.syft_function_single_use(data=asset)\n",
    "def detections(data):\n",
    "    positve_tests = sum(data[\"Positive Tests\"])\n",
    "\n",
    "    return positve_tests\n",
    "\n",
    "\n",
    "@sy.syft_function_single_use(data=asset)\n",
    "def positivity(data):\n",
    "    tests = sum(data[\"Total Tests\"])\n",
    "    positve_tests = sum(data[\"Positive Tests\"])\n",
    "\n",
    "    return positve_tests / tests\n",
    "\n",
    "@sy.syft_function_single_use(data=asset)\n",
    "def doses(data):\n",
    "    doses = sum(data[\"Cumulative_Flu_Doses_Distributed\"])\n",
    "\n",
    "    return doses"
   ]
  },
  {
   "cell_type": "code",
   "execution_count": null,
   "metadata": {},
   "outputs": [],
   "source": [
    "pointer = detections(data=asset)\n",
    "pointer.get()"
   ]
  },
  {
   "cell_type": "markdown",
   "metadata": {},
   "source": [
    "Submit function to the Domain Server"
   ]
  },
  {
   "cell_type": "code",
   "execution_count": null,
   "metadata": {},
   "outputs": [],
   "source": [
    "new_project = sy.Project(\n",
    "    name=\"Covid Report\",\n",
    "    description=\"A project looking at some covid data\",\n",
    "    members=[data_scientist_client],\n",
    ")\n",
    "new_project"
   ]
  },
  {
   "cell_type": "code",
   "execution_count": null,
   "metadata": {},
   "outputs": [],
   "source": [
    "new_project.create_code_request(detections, data_scientist_client)\n",
    "new_project.create_code_request(positivity, data_scientist_client)"
   ]
  },
  {
   "cell_type": "code",
   "execution_count": null,
   "metadata": {},
   "outputs": [],
   "source": [
    "data_scientist_client.code"
   ]
  },
  {
   "cell_type": "code",
   "execution_count": null,
   "metadata": {},
   "outputs": [],
   "source": [
    "project = new_project.start()\n",
    "project"
   ]
  },
  {
   "cell_type": "markdown",
   "metadata": {},
   "source": [
    "Execute the submitted function and explore the result"
   ]
  },
  {
   "cell_type": "code",
   "execution_count": null,
   "metadata": {},
   "outputs": [],
   "source": [
    "asset = data_scientist_client.datasets[0].assets[0]\n",
    "data_scientist_client.code.detections(data=asset).get()"
   ]
  },
  {
   "cell_type": "markdown",
   "metadata": {},
   "source": [
    "As you can see, the result is not ready to be analyzed, because it needs to be approved by the Data Owners."
   ]
  }
 ],
 "metadata": {
  "kernelspec": {
   "display_name": "pysyft",
   "language": "python",
   "name": "python3"
  },
  "language_info": {
   "codemirror_mode": {
    "name": "ipython",
    "version": 3
   },
   "file_extension": ".py",
   "mimetype": "text/x-python",
   "name": "python",
   "nbconvert_exporter": "python",
   "pygments_lexer": "ipython3",
   "version": "3.11.8"
  }
 },
 "nbformat": 4,
 "nbformat_minor": 2
}
